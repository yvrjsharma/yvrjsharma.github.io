{
 "cells": [
  {
   "cell_type": "code",
   "execution_count": 1,
   "metadata": {
    "colab": {
     "base_uri": "https://localhost:8080/",
     "height": 185
    },
    "colab_type": "code",
    "id": "jBHF1Cs-vDs6",
    "outputId": "3d248b2a-8346-4f4f-fe69-5d167213d477"
   },
   "outputs": [
    {
     "name": "stderr",
     "output_type": "stream",
     "text": [
      "Enabling: voila\n",
      "- Writing config: C:\\Users\\Yuvi\\.jupyter\n",
      "    - Validating...\n",
      "      voila 0.2.1 ok\n",
      "Enabling: —sys-prefix\n",
      "- Writing config: C:\\Users\\Yuvi\\.jupyter\n",
      "    - Validating...\n",
      "Error loading server extension —sys-prefix\n",
      "      X is —sys-prefix importable?\n"
     ]
    }
   ],
   "source": [
    "#!pip install voila\n",
    "!jupyter serverextension enable voila —sys-prefix"
   ]
  },
  {
   "cell_type": "code",
   "execution_count": 3,
   "metadata": {
    "colab": {},
    "colab_type": "code",
    "collapsed": true,
    "id": "OESDXiVxTR5c"
   },
   "outputs": [
    {
     "name": "stdout",
     "output_type": "stream",
     "text": [
      "Collecting nbconvert\n",
      "  Using cached https://files.pythonhosted.org/packages/88/0a/d50141a0db95cffaf65238bf612e1f2bc929b36cbdf0d27eba352558267b/nbconvert-6.0.3-py3-none-any.whl\n",
      "Requirement already satisfied, skipping upgrade: jupyterlab-pygments in c:\\users\\yuvi\\appdata\\local\\programs\\python\\python37\\lib\\site-packages (from nbconvert) (0.1.1)\n",
      "Requirement already satisfied, skipping upgrade: entrypoints>=0.2.2 in c:\\users\\yuvi\\appdata\\local\\programs\\python\\python37\\lib\\site-packages (from nbconvert) (0.3)\n",
      "Requirement already satisfied, skipping upgrade: pygments>=2.4.1 in c:\\users\\yuvi\\appdata\\local\\programs\\python\\python37\\lib\\site-packages (from nbconvert) (2.7.1)\n",
      "Requirement already satisfied, skipping upgrade: nbformat>=4.4 in c:\\users\\yuvi\\appdata\\local\\programs\\python\\python37\\lib\\site-packages (from nbconvert) (5.0.4)\n",
      "Requirement already satisfied, skipping upgrade: mistune<2,>=0.8.1 in c:\\users\\yuvi\\appdata\\local\\programs\\python\\python37\\lib\\site-packages (from nbconvert) (0.8.4)\n",
      "Requirement already satisfied, skipping upgrade: bleach in c:\\users\\yuvi\\appdata\\local\\programs\\python\\python37\\lib\\site-packages (from nbconvert) (3.1.0)\n",
      "Requirement already satisfied, skipping upgrade: defusedxml in c:\\users\\yuvi\\appdata\\local\\programs\\python\\python37\\lib\\site-packages (from nbconvert) (0.6.0)\n",
      "Requirement already satisfied, skipping upgrade: nbclient<0.6.0,>=0.5.0 in c:\\users\\yuvi\\appdata\\local\\programs\\python\\python37\\lib\\site-packages (from nbconvert) (0.5.0)\n",
      "Requirement already satisfied, skipping upgrade: traitlets>=4.2 in c:\\users\\yuvi\\appdata\\local\\programs\\python\\python37\\lib\\site-packages (from nbconvert) (4.3.3)\n",
      "Requirement already satisfied, skipping upgrade: pandocfilters>=1.4.1 in c:\\users\\yuvi\\appdata\\local\\programs\\python\\python37\\lib\\site-packages (from nbconvert) (1.4.2)\n",
      "Requirement already satisfied, skipping upgrade: testpath in c:\\users\\yuvi\\appdata\\local\\programs\\python\\python37\\lib\\site-packages (from nbconvert) (0.4.4)\n",
      "Requirement already satisfied, skipping upgrade: jupyter-core in c:\\users\\yuvi\\appdata\\local\\programs\\python\\python37\\lib\\site-packages (from nbconvert) (4.6.1)\n",
      "Requirement already satisfied, skipping upgrade: jinja2>=2.4 in c:\\users\\yuvi\\appdata\\local\\programs\\python\\python37\\lib\\site-packages (from nbconvert) (2.11.1)\n",
      "Requirement already satisfied, skipping upgrade: ipython-genutils in c:\\users\\yuvi\\appdata\\local\\programs\\python\\python37\\lib\\site-packages (from nbformat>=4.4->nbconvert) (0.2.0)\n",
      "Requirement already satisfied, skipping upgrade: jsonschema!=2.5.0,>=2.4 in c:\\users\\yuvi\\appdata\\local\\programs\\python\\python37\\lib\\site-packages (from nbformat>=4.4->nbconvert) (3.2.0)\n",
      "Requirement already satisfied, skipping upgrade: six>=1.9.0 in c:\\users\\yuvi\\appdata\\local\\programs\\python\\python37\\lib\\site-packages (from bleach->nbconvert) (1.14.0)\n",
      "Requirement already satisfied, skipping upgrade: webencodings in c:\\users\\yuvi\\appdata\\local\\programs\\python\\python37\\lib\\site-packages (from bleach->nbconvert) (0.5.1)\n",
      "Requirement already satisfied, skipping upgrade: async-generator in c:\\users\\yuvi\\appdata\\local\\programs\\python\\python37\\lib\\site-packages (from nbclient<0.6.0,>=0.5.0->nbconvert) (1.10)\n",
      "Requirement already satisfied, skipping upgrade: nest-asyncio in c:\\users\\yuvi\\appdata\\local\\programs\\python\\python37\\lib\\site-packages (from nbclient<0.6.0,>=0.5.0->nbconvert) (1.4.0)\n",
      "Requirement already satisfied, skipping upgrade: jupyter-client>=6.1.5 in c:\\users\\yuvi\\appdata\\local\\programs\\python\\python37\\lib\\site-packages (from nbclient<0.6.0,>=0.5.0->nbconvert) (6.1.7)\n",
      "Requirement already satisfied, skipping upgrade: decorator in c:\\users\\yuvi\\appdata\\local\\programs\\python\\python37\\lib\\site-packages (from traitlets>=4.2->nbconvert) (4.4.1)\n",
      "Requirement already satisfied, skipping upgrade: pywin32>=1.0; sys_platform == \"win32\" in c:\\users\\yuvi\\appdata\\local\\programs\\python\\python37\\lib\\site-packages (from jupyter-core->nbconvert) (227)\n",
      "Requirement already satisfied, skipping upgrade: MarkupSafe>=0.23 in c:\\users\\yuvi\\appdata\\local\\programs\\python\\python37\\lib\\site-packages (from jinja2>=2.4->nbconvert) (1.1.1)\n",
      "Requirement already satisfied, skipping upgrade: pyrsistent>=0.14.0 in c:\\users\\yuvi\\appdata\\local\\programs\\python\\python37\\lib\\site-packages (from jsonschema!=2.5.0,>=2.4->nbformat>=4.4->nbconvert) (0.15.7)\n",
      "Requirement already satisfied, skipping upgrade: attrs>=17.4.0 in c:\\users\\yuvi\\appdata\\local\\programs\\python\\python37\\lib\\site-packages (from jsonschema!=2.5.0,>=2.4->nbformat>=4.4->nbconvert) (19.3.0)\n",
      "Requirement already satisfied, skipping upgrade: importlib-metadata; python_version < \"3.8\" in c:\\users\\yuvi\\appdata\\local\\programs\\python\\python37\\lib\\site-packages (from jsonschema!=2.5.0,>=2.4->nbformat>=4.4->nbconvert) (1.5.0)\n",
      "Requirement already satisfied, skipping upgrade: setuptools in c:\\users\\yuvi\\appdata\\local\\programs\\python\\python37\\lib\\site-packages (from jsonschema!=2.5.0,>=2.4->nbformat>=4.4->nbconvert) (41.2.0)\n",
      "Requirement already satisfied, skipping upgrade: tornado>=4.1 in c:\\users\\yuvi\\appdata\\local\\programs\\python\\python37\\lib\\site-packages (from jupyter-client>=6.1.5->nbclient<0.6.0,>=0.5.0->nbconvert) (6.0.3)\n",
      "Requirement already satisfied, skipping upgrade: python-dateutil>=2.1 in c:\\users\\yuvi\\appdata\\local\\programs\\python\\python37\\lib\\site-packages (from jupyter-client>=6.1.5->nbclient<0.6.0,>=0.5.0->nbconvert) (2.8.1)\n",
      "Requirement already satisfied, skipping upgrade: pyzmq>=13 in c:\\users\\yuvi\\appdata\\local\\programs\\python\\python37\\lib\\site-packages (from jupyter-client>=6.1.5->nbclient<0.6.0,>=0.5.0->nbconvert) (18.1.1)\n",
      "Requirement already satisfied, skipping upgrade: zipp>=0.5 in c:\\users\\yuvi\\appdata\\local\\programs\\python\\python37\\lib\\site-packages (from importlib-metadata; python_version < \"3.8\"->jsonschema!=2.5.0,>=2.4->nbformat>=4.4->nbconvert) (2.1.0)\n",
      "Installing collected packages: nbconvert\n",
      "  Found existing installation: nbconvert 5.6.1\n",
      "    Uninstalling nbconvert-5.6.1:\n",
      "      Successfully uninstalled nbconvert-5.6.1\n",
      "Successfully installed nbconvert-6.0.3\n"
     ]
    },
    {
     "name": "stderr",
     "output_type": "stream",
     "text": [
      "ERROR: nbdev 1.0.18 has requirement nbconvert<6, but you'll have nbconvert 6.0.3 which is incompatible.\n",
      "WARNING: You are using pip version 19.2.3, however version 20.2.3 is available.\n",
      "You should consider upgrading via the 'python -m pip install --upgrade pip' command.\n"
     ]
    }
   ],
   "source": [
    "#hide\n",
    "!pip install -Uqq fastbook\n",
    "!pip install --upgrade nbconvert\n",
    "import fastbook\n",
    "fastbook.setup_book()"
   ]
  },
  {
   "cell_type": "code",
   "execution_count": 4,
   "metadata": {
    "colab": {},
    "colab_type": "code",
    "id": "oogCMEPoTR5p"
   },
   "outputs": [],
   "source": [
    "#hide\n",
    "from fastbook import *\n",
    "from fastai.vision.widgets import *"
   ]
  },
  {
   "cell_type": "code",
   "execution_count": 3,
   "metadata": {
    "colab": {},
    "colab_type": "code",
    "id": "EblarX9RTR7Y"
   },
   "outputs": [],
   "source": [
    "learn_inf = load_learner('models/bears.pkl')"
   ]
  },
  {
   "cell_type": "code",
   "execution_count": 5,
   "metadata": {
    "colab": {},
    "colab_type": "code",
    "id": "JzsbxXVgTR7v"
   },
   "outputs": [],
   "source": [
    "#hide_output\n",
    "btn_upload = widgets.FileUpload()\n",
    "out_pl = widgets.Output()\n",
    "lbl_pred = widgets.Label()\n",
    "btn_run = widgets.Button(description='Classify')\n",
    "\n",
    "def on_click_classify(change):\n",
    "    img = PILImage.create(btn_upload.data[-1])\n",
    "    out_pl.clear_output()\n",
    "    with out_pl: display(img.to_thumb(128,128))\n",
    "    pred,pred_idx,probs = learn_inf.predict(img)\n",
    "    lbl_pred.value = f'Prediction: {pred}; Probability: {probs[pred_idx]:.04f}'\n",
    "\n",
    "btn_run.on_click(on_click_classify)"
   ]
  },
  {
   "cell_type": "code",
   "execution_count": 6,
   "metadata": {
    "colab": {
     "base_uri": "https://localhost:8080/",
     "height": 228,
     "referenced_widgets": [
      "6259e4889d284910b799d83bcc1d6ca9",
      "aa70ad7d5d4f428c9aa106f5a5bc1891",
      "da7c1bd4551944c69160c9fbcb8b9b22",
      "4587026b64a74ea7921270a28d61093a",
      "07e780cc42114f73a59ef7f9d5a6028b",
      "58fe8317d7874f4b93a7c66f91da4b5d",
      "c6296ab7cd144baba7b6b738c9981d05",
      "155050e11b0c48b9babba398b931a294",
      "b68df53d4626497e9b1fc24b57b3dd9e",
      "610cf5dfae7f477589ffef1c757cd7f4",
      "ef834e3c25a44112bb5404fa1713f185",
      "fb69463aefff440cb26b2b902c7e177d",
      "aa826ccd468e4133af3c9f7f149d6842",
      "fc04358cfaf04d3690249479a3238ce6",
      "06db8276059d449aa51a7b53c0fd61e7",
      "908c31b788064131b8c9f60108eb9626"
     ]
    },
    "colab_type": "code",
    "id": "Mv_lHqjJTR70",
    "outputId": "f8535598-2063-4e09-8471-d6f67257b4bd"
   },
   "outputs": [
    {
     "data": {
      "application/vnd.jupyter.widget-view+json": {
       "model_id": "6259e4889d284910b799d83bcc1d6ca9",
       "version_major": 2,
       "version_minor": 0
      },
      "text/plain": [
       "VBox(children=(Label(value='Select your bear!'), FileUpload(value={}, description='Upload'), Button(descriptio…"
      ]
     },
     "metadata": {
      "tags": []
     },
     "output_type": "display_data"
    },
    {
     "data": {
      "text/html": [],
      "text/plain": [
       "<IPython.core.display.HTML object>"
      ]
     },
     "metadata": {
      "tags": []
     },
     "output_type": "display_data"
    }
   ],
   "source": [
    "#hide_output\n",
    "VBox([widgets.Label('Select your bear!'), \n",
    "      btn_upload, btn_run, out_pl, lbl_pred])"
   ]
  }
 ],
 "metadata": {
  "colab": {
   "collapsed_sections": [],
   "name": "bear_app.ipynb",
   "provenance": []
  },
  "kernelspec": {
   "display_name": "Python 3",
   "language": "python",
   "name": "python3"
  },
  "language_info": {
   "codemirror_mode": {
    "name": "ipython",
    "version": 3
   },
   "file_extension": ".py",
   "mimetype": "text/x-python",
   "name": "python",
   "nbconvert_exporter": "python",
   "pygments_lexer": "ipython3",
   "version": "3.7.5"
  },
  "widgets": {
   "application/vnd.jupyter.widget-state+json": {
    "06db8276059d449aa51a7b53c0fd61e7": {
     "model_module": "@jupyter-widgets/base",
     "model_name": "LayoutModel",
     "state": {
      "_model_module": "@jupyter-widgets/base",
      "_model_module_version": "1.2.0",
      "_model_name": "LayoutModel",
      "_view_count": null,
      "_view_module": "@jupyter-widgets/base",
      "_view_module_version": "1.2.0",
      "_view_name": "LayoutView",
      "align_content": null,
      "align_items": null,
      "align_self": null,
      "border": null,
      "bottom": null,
      "display": null,
      "flex": null,
      "flex_flow": null,
      "grid_area": null,
      "grid_auto_columns": null,
      "grid_auto_flow": null,
      "grid_auto_rows": null,
      "grid_column": null,
      "grid_gap": null,
      "grid_row": null,
      "grid_template_areas": null,
      "grid_template_columns": null,
      "grid_template_rows": null,
      "height": null,
      "justify_content": null,
      "justify_items": null,
      "left": null,
      "margin": null,
      "max_height": null,
      "max_width": null,
      "min_height": null,
      "min_width": null,
      "object_fit": null,
      "object_position": null,
      "order": null,
      "overflow": null,
      "overflow_x": null,
      "overflow_y": null,
      "padding": null,
      "right": null,
      "top": null,
      "visibility": null,
      "width": null
     }
    },
    "07e780cc42114f73a59ef7f9d5a6028b": {
     "model_module": "@jupyter-widgets/controls",
     "model_name": "ButtonModel",
     "state": {
      "_dom_classes": [],
      "_model_module": "@jupyter-widgets/controls",
      "_model_module_version": "1.5.0",
      "_model_name": "ButtonModel",
      "_view_count": null,
      "_view_module": "@jupyter-widgets/controls",
      "_view_module_version": "1.5.0",
      "_view_name": "ButtonView",
      "button_style": "",
      "description": "Classify",
      "disabled": false,
      "icon": "",
      "layout": "IPY_MODEL_aa826ccd468e4133af3c9f7f149d6842",
      "style": "IPY_MODEL_fb69463aefff440cb26b2b902c7e177d",
      "tooltip": ""
     }
    },
    "0a09f88ff01a4a9c877e74ee8b6be4d1": {
     "model_module": "@jupyter-widgets/controls",
     "model_name": "ButtonModel",
     "state": {
      "_dom_classes": [],
      "_model_module": "@jupyter-widgets/controls",
      "_model_module_version": "1.5.0",
      "_model_name": "ButtonModel",
      "_view_count": null,
      "_view_module": "@jupyter-widgets/controls",
      "_view_module_version": "1.5.0",
      "_view_name": "ButtonView",
      "button_style": "",
      "description": "Classify",
      "disabled": false,
      "icon": "",
      "layout": "IPY_MODEL_70cbf374f3264e50acd869f219693a03",
      "style": "IPY_MODEL_9cb101efc8e748ca826b6e4dfa3d5119",
      "tooltip": ""
     }
    },
    "155050e11b0c48b9babba398b931a294": {
     "model_module": "@jupyter-widgets/controls",
     "model_name": "DescriptionStyleModel",
     "state": {
      "_model_module": "@jupyter-widgets/controls",
      "_model_module_version": "1.5.0",
      "_model_name": "DescriptionStyleModel",
      "_view_count": null,
      "_view_module": "@jupyter-widgets/base",
      "_view_module_version": "1.2.0",
      "_view_name": "StyleView",
      "description_width": ""
     }
    },
    "3fb4df2ba29241efb9fda46624456b1c": {
     "model_module": "@jupyter-widgets/base",
     "model_name": "LayoutModel",
     "state": {
      "_model_module": "@jupyter-widgets/base",
      "_model_module_version": "1.2.0",
      "_model_name": "LayoutModel",
      "_view_count": null,
      "_view_module": "@jupyter-widgets/base",
      "_view_module_version": "1.2.0",
      "_view_name": "LayoutView",
      "align_content": null,
      "align_items": null,
      "align_self": null,
      "border": null,
      "bottom": null,
      "display": null,
      "flex": null,
      "flex_flow": null,
      "grid_area": null,
      "grid_auto_columns": null,
      "grid_auto_flow": null,
      "grid_auto_rows": null,
      "grid_column": null,
      "grid_gap": null,
      "grid_row": null,
      "grid_template_areas": null,
      "grid_template_columns": null,
      "grid_template_rows": null,
      "height": null,
      "justify_content": null,
      "justify_items": null,
      "left": null,
      "margin": null,
      "max_height": null,
      "max_width": null,
      "min_height": null,
      "min_width": null,
      "object_fit": null,
      "object_position": null,
      "order": null,
      "overflow": null,
      "overflow_x": null,
      "overflow_y": null,
      "padding": null,
      "right": null,
      "top": null,
      "visibility": null,
      "width": null
     }
    },
    "4587026b64a74ea7921270a28d61093a": {
     "model_module": "@jupyter-widgets/controls",
     "model_name": "FileUploadModel",
     "state": {
      "_counter": 1,
      "_dom_classes": [],
      "_model_module": "@jupyter-widgets/controls",
      "_model_module_version": "1.5.0",
      "_model_name": "FileUploadModel",
      "_view_count": null,
      "_view_module": "@jupyter-widgets/controls",
      "_view_module_version": "1.5.0",
      "_view_name": "FileUploadView",
      "accept": "",
      "button_style": "",
      "data": [
       null
      ],
      "description": "Upload",
      "description_tooltip": null,
      "disabled": false,
      "error": "",
      "icon": "upload",
      "layout": "IPY_MODEL_ef834e3c25a44112bb5404fa1713f185",
      "metadata": [
       {
        "lastModified": 1600324453067,
        "name": "Grizzly-bear-family-Copyright-iStock-com_PhotosbyAndy-4-2015-e1507229404830-jpg.jpg",
        "size": 813670,
        "type": "image/jpeg"
       }
      ],
      "multiple": false,
      "style": "IPY_MODEL_610cf5dfae7f477589ffef1c757cd7f4"
     }
    },
    "47b8f9eae6354b13ab59a41ef0d55b0e": {
     "model_module": "@jupyter-widgets/base",
     "model_name": "LayoutModel",
     "state": {
      "_model_module": "@jupyter-widgets/base",
      "_model_module_version": "1.2.0",
      "_model_name": "LayoutModel",
      "_view_count": null,
      "_view_module": "@jupyter-widgets/base",
      "_view_module_version": "1.2.0",
      "_view_name": "LayoutView",
      "align_content": null,
      "align_items": null,
      "align_self": null,
      "border": null,
      "bottom": null,
      "display": null,
      "flex": null,
      "flex_flow": null,
      "grid_area": null,
      "grid_auto_columns": null,
      "grid_auto_flow": null,
      "grid_auto_rows": null,
      "grid_column": null,
      "grid_gap": null,
      "grid_row": null,
      "grid_template_areas": null,
      "grid_template_columns": null,
      "grid_template_rows": null,
      "height": null,
      "justify_content": null,
      "justify_items": null,
      "left": null,
      "margin": null,
      "max_height": null,
      "max_width": null,
      "min_height": null,
      "min_width": null,
      "object_fit": null,
      "object_position": null,
      "order": null,
      "overflow": null,
      "overflow_x": null,
      "overflow_y": null,
      "padding": null,
      "right": null,
      "top": null,
      "visibility": null,
      "width": null
     }
    },
    "4cbe01d90a3d4f7c89d9715b0db9c395": {
     "model_module": "@jupyter-widgets/controls",
     "model_name": "LabelModel",
     "state": {
      "_dom_classes": [],
      "_model_module": "@jupyter-widgets/controls",
      "_model_module_version": "1.5.0",
      "_model_name": "LabelModel",
      "_view_count": null,
      "_view_module": "@jupyter-widgets/controls",
      "_view_module_version": "1.5.0",
      "_view_name": "LabelView",
      "description": "",
      "description_tooltip": null,
      "layout": "IPY_MODEL_47b8f9eae6354b13ab59a41ef0d55b0e",
      "placeholder": "​",
      "style": "IPY_MODEL_5893ec8fd37d41528fd0a4f28525b029",
      "value": "Prediction: grizzly; Probability: 0.9996"
     }
    },
    "5893ec8fd37d41528fd0a4f28525b029": {
     "model_module": "@jupyter-widgets/controls",
     "model_name": "DescriptionStyleModel",
     "state": {
      "_model_module": "@jupyter-widgets/controls",
      "_model_module_version": "1.5.0",
      "_model_name": "DescriptionStyleModel",
      "_view_count": null,
      "_view_module": "@jupyter-widgets/base",
      "_view_module_version": "1.2.0",
      "_view_name": "StyleView",
      "description_width": ""
     }
    },
    "58fe8317d7874f4b93a7c66f91da4b5d": {
     "model_module": "@jupyter-widgets/output",
     "model_name": "OutputModel",
     "state": {
      "_dom_classes": [],
      "_model_module": "@jupyter-widgets/output",
      "_model_module_version": "1.0.0",
      "_model_name": "OutputModel",
      "_view_count": null,
      "_view_module": "@jupyter-widgets/output",
      "_view_module_version": "1.0.0",
      "_view_name": "OutputView",
      "layout": "IPY_MODEL_908c31b788064131b8c9f60108eb9626",
      "msg_id": "",
      "outputs": [
       {
        "image/png": "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\n",
        "metadata": {
         "tags": []
        },
        "output_type": "display_data",
        "text/plain": "<PIL.Image.Image image mode=RGB size=128x83 at 0x7F132910ABA8>"
       }
      ]
     }
    },
    "5a945d6a9cab4f818df4f7f208cf4cd7": {
     "model_module": "@jupyter-widgets/controls",
     "model_name": "ButtonStyleModel",
     "state": {
      "_model_module": "@jupyter-widgets/controls",
      "_model_module_version": "1.5.0",
      "_model_name": "ButtonStyleModel",
      "_view_count": null,
      "_view_module": "@jupyter-widgets/base",
      "_view_module_version": "1.2.0",
      "_view_name": "StyleView",
      "button_color": null,
      "font_weight": ""
     }
    },
    "610cf5dfae7f477589ffef1c757cd7f4": {
     "model_module": "@jupyter-widgets/controls",
     "model_name": "ButtonStyleModel",
     "state": {
      "_model_module": "@jupyter-widgets/controls",
      "_model_module_version": "1.5.0",
      "_model_name": "ButtonStyleModel",
      "_view_count": null,
      "_view_module": "@jupyter-widgets/base",
      "_view_module_version": "1.2.0",
      "_view_name": "StyleView",
      "button_color": null,
      "font_weight": ""
     }
    },
    "6259e4889d284910b799d83bcc1d6ca9": {
     "model_module": "@jupyter-widgets/controls",
     "model_name": "VBoxModel",
     "state": {
      "_dom_classes": [],
      "_model_module": "@jupyter-widgets/controls",
      "_model_module_version": "1.5.0",
      "_model_name": "VBoxModel",
      "_view_count": null,
      "_view_module": "@jupyter-widgets/controls",
      "_view_module_version": "1.5.0",
      "_view_name": "VBoxView",
      "box_style": "",
      "children": [
       "IPY_MODEL_da7c1bd4551944c69160c9fbcb8b9b22",
       "IPY_MODEL_4587026b64a74ea7921270a28d61093a",
       "IPY_MODEL_07e780cc42114f73a59ef7f9d5a6028b",
       "IPY_MODEL_58fe8317d7874f4b93a7c66f91da4b5d",
       "IPY_MODEL_c6296ab7cd144baba7b6b738c9981d05"
      ],
      "layout": "IPY_MODEL_aa70ad7d5d4f428c9aa106f5a5bc1891"
     }
    },
    "70cbf374f3264e50acd869f219693a03": {
     "model_module": "@jupyter-widgets/base",
     "model_name": "LayoutModel",
     "state": {
      "_model_module": "@jupyter-widgets/base",
      "_model_module_version": "1.2.0",
      "_model_name": "LayoutModel",
      "_view_count": null,
      "_view_module": "@jupyter-widgets/base",
      "_view_module_version": "1.2.0",
      "_view_name": "LayoutView",
      "align_content": null,
      "align_items": null,
      "align_self": null,
      "border": null,
      "bottom": null,
      "display": null,
      "flex": null,
      "flex_flow": null,
      "grid_area": null,
      "grid_auto_columns": null,
      "grid_auto_flow": null,
      "grid_auto_rows": null,
      "grid_column": null,
      "grid_gap": null,
      "grid_row": null,
      "grid_template_areas": null,
      "grid_template_columns": null,
      "grid_template_rows": null,
      "height": null,
      "justify_content": null,
      "justify_items": null,
      "left": null,
      "margin": null,
      "max_height": null,
      "max_width": null,
      "min_height": null,
      "min_width": null,
      "object_fit": null,
      "object_position": null,
      "order": null,
      "overflow": null,
      "overflow_x": null,
      "overflow_y": null,
      "padding": null,
      "right": null,
      "top": null,
      "visibility": null,
      "width": null
     }
    },
    "74618d0d7c3e41b7aa64a6ed6f6b5fba": {
     "model_module": "@jupyter-widgets/output",
     "model_name": "OutputModel",
     "state": {
      "_dom_classes": [],
      "_model_module": "@jupyter-widgets/output",
      "_model_module_version": "1.0.0",
      "_model_name": "OutputModel",
      "_view_count": null,
      "_view_module": "@jupyter-widgets/output",
      "_view_module_version": "1.0.0",
      "_view_name": "OutputView",
      "layout": "IPY_MODEL_a125eb893eb6474abd14ea7d457cd932",
      "msg_id": "",
      "outputs": [
       {
        "image/png": "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\n",
        "metadata": {
         "tags": []
        },
        "output_type": "display_data",
        "text/plain": "<PIL.Image.Image image mode=RGB size=128x85 at 0x7F4EAA647780>"
       }
      ]
     }
    },
    "908c31b788064131b8c9f60108eb9626": {
     "model_module": "@jupyter-widgets/base",
     "model_name": "LayoutModel",
     "state": {
      "_model_module": "@jupyter-widgets/base",
      "_model_module_version": "1.2.0",
      "_model_name": "LayoutModel",
      "_view_count": null,
      "_view_module": "@jupyter-widgets/base",
      "_view_module_version": "1.2.0",
      "_view_name": "LayoutView",
      "align_content": null,
      "align_items": null,
      "align_self": null,
      "border": null,
      "bottom": null,
      "display": null,
      "flex": null,
      "flex_flow": null,
      "grid_area": null,
      "grid_auto_columns": null,
      "grid_auto_flow": null,
      "grid_auto_rows": null,
      "grid_column": null,
      "grid_gap": null,
      "grid_row": null,
      "grid_template_areas": null,
      "grid_template_columns": null,
      "grid_template_rows": null,
      "height": null,
      "justify_content": null,
      "justify_items": null,
      "left": null,
      "margin": null,
      "max_height": null,
      "max_width": null,
      "min_height": null,
      "min_width": null,
      "object_fit": null,
      "object_position": null,
      "order": null,
      "overflow": null,
      "overflow_x": null,
      "overflow_y": null,
      "padding": null,
      "right": null,
      "top": null,
      "visibility": null,
      "width": null
     }
    },
    "9cb101efc8e748ca826b6e4dfa3d5119": {
     "model_module": "@jupyter-widgets/controls",
     "model_name": "ButtonStyleModel",
     "state": {
      "_model_module": "@jupyter-widgets/controls",
      "_model_module_version": "1.5.0",
      "_model_name": "ButtonStyleModel",
      "_view_count": null,
      "_view_module": "@jupyter-widgets/base",
      "_view_module_version": "1.2.0",
      "_view_name": "StyleView",
      "button_color": null,
      "font_weight": ""
     }
    },
    "a125eb893eb6474abd14ea7d457cd932": {
     "model_module": "@jupyter-widgets/base",
     "model_name": "LayoutModel",
     "state": {
      "_model_module": "@jupyter-widgets/base",
      "_model_module_version": "1.2.0",
      "_model_name": "LayoutModel",
      "_view_count": null,
      "_view_module": "@jupyter-widgets/base",
      "_view_module_version": "1.2.0",
      "_view_name": "LayoutView",
      "align_content": null,
      "align_items": null,
      "align_self": null,
      "border": null,
      "bottom": null,
      "display": null,
      "flex": null,
      "flex_flow": null,
      "grid_area": null,
      "grid_auto_columns": null,
      "grid_auto_flow": null,
      "grid_auto_rows": null,
      "grid_column": null,
      "grid_gap": null,
      "grid_row": null,
      "grid_template_areas": null,
      "grid_template_columns": null,
      "grid_template_rows": null,
      "height": null,
      "justify_content": null,
      "justify_items": null,
      "left": null,
      "margin": null,
      "max_height": null,
      "max_width": null,
      "min_height": null,
      "min_width": null,
      "object_fit": null,
      "object_position": null,
      "order": null,
      "overflow": null,
      "overflow_x": null,
      "overflow_y": null,
      "padding": null,
      "right": null,
      "top": null,
      "visibility": null,
      "width": null
     }
    },
    "aa70ad7d5d4f428c9aa106f5a5bc1891": {
     "model_module": "@jupyter-widgets/base",
     "model_name": "LayoutModel",
     "state": {
      "_model_module": "@jupyter-widgets/base",
      "_model_module_version": "1.2.0",
      "_model_name": "LayoutModel",
      "_view_count": null,
      "_view_module": "@jupyter-widgets/base",
      "_view_module_version": "1.2.0",
      "_view_name": "LayoutView",
      "align_content": null,
      "align_items": null,
      "align_self": null,
      "border": null,
      "bottom": null,
      "display": null,
      "flex": null,
      "flex_flow": null,
      "grid_area": null,
      "grid_auto_columns": null,
      "grid_auto_flow": null,
      "grid_auto_rows": null,
      "grid_column": null,
      "grid_gap": null,
      "grid_row": null,
      "grid_template_areas": null,
      "grid_template_columns": null,
      "grid_template_rows": null,
      "height": null,
      "justify_content": null,
      "justify_items": null,
      "left": null,
      "margin": null,
      "max_height": null,
      "max_width": null,
      "min_height": null,
      "min_width": null,
      "object_fit": null,
      "object_position": null,
      "order": null,
      "overflow": null,
      "overflow_x": null,
      "overflow_y": null,
      "padding": null,
      "right": null,
      "top": null,
      "visibility": null,
      "width": null
     }
    },
    "aa826ccd468e4133af3c9f7f149d6842": {
     "model_module": "@jupyter-widgets/base",
     "model_name": "LayoutModel",
     "state": {
      "_model_module": "@jupyter-widgets/base",
      "_model_module_version": "1.2.0",
      "_model_name": "LayoutModel",
      "_view_count": null,
      "_view_module": "@jupyter-widgets/base",
      "_view_module_version": "1.2.0",
      "_view_name": "LayoutView",
      "align_content": null,
      "align_items": null,
      "align_self": null,
      "border": null,
      "bottom": null,
      "display": null,
      "flex": null,
      "flex_flow": null,
      "grid_area": null,
      "grid_auto_columns": null,
      "grid_auto_flow": null,
      "grid_auto_rows": null,
      "grid_column": null,
      "grid_gap": null,
      "grid_row": null,
      "grid_template_areas": null,
      "grid_template_columns": null,
      "grid_template_rows": null,
      "height": null,
      "justify_content": null,
      "justify_items": null,
      "left": null,
      "margin": null,
      "max_height": null,
      "max_width": null,
      "min_height": null,
      "min_width": null,
      "object_fit": null,
      "object_position": null,
      "order": null,
      "overflow": null,
      "overflow_x": null,
      "overflow_y": null,
      "padding": null,
      "right": null,
      "top": null,
      "visibility": null,
      "width": null
     }
    },
    "b68df53d4626497e9b1fc24b57b3dd9e": {
     "model_module": "@jupyter-widgets/base",
     "model_name": "LayoutModel",
     "state": {
      "_model_module": "@jupyter-widgets/base",
      "_model_module_version": "1.2.0",
      "_model_name": "LayoutModel",
      "_view_count": null,
      "_view_module": "@jupyter-widgets/base",
      "_view_module_version": "1.2.0",
      "_view_name": "LayoutView",
      "align_content": null,
      "align_items": null,
      "align_self": null,
      "border": null,
      "bottom": null,
      "display": null,
      "flex": null,
      "flex_flow": null,
      "grid_area": null,
      "grid_auto_columns": null,
      "grid_auto_flow": null,
      "grid_auto_rows": null,
      "grid_column": null,
      "grid_gap": null,
      "grid_row": null,
      "grid_template_areas": null,
      "grid_template_columns": null,
      "grid_template_rows": null,
      "height": null,
      "justify_content": null,
      "justify_items": null,
      "left": null,
      "margin": null,
      "max_height": null,
      "max_width": null,
      "min_height": null,
      "min_width": null,
      "object_fit": null,
      "object_position": null,
      "order": null,
      "overflow": null,
      "overflow_x": null,
      "overflow_y": null,
      "padding": null,
      "right": null,
      "top": null,
      "visibility": null,
      "width": null
     }
    },
    "c4ce2b26274a44ac94c4ce4fd19e6adc": {
     "model_module": "@jupyter-widgets/controls",
     "model_name": "FileUploadModel",
     "state": {
      "_counter": 0,
      "_dom_classes": [],
      "_model_module": "@jupyter-widgets/controls",
      "_model_module_version": "1.5.0",
      "_model_name": "FileUploadModel",
      "_view_count": null,
      "_view_module": "@jupyter-widgets/controls",
      "_view_module_version": "1.5.0",
      "_view_name": "FileUploadView",
      "accept": "",
      "button_style": "",
      "data": [],
      "description": "Upload",
      "description_tooltip": null,
      "disabled": false,
      "error": "",
      "icon": "upload",
      "layout": "IPY_MODEL_3fb4df2ba29241efb9fda46624456b1c",
      "metadata": [],
      "multiple": false,
      "style": "IPY_MODEL_5a945d6a9cab4f818df4f7f208cf4cd7"
     }
    },
    "c6296ab7cd144baba7b6b738c9981d05": {
     "model_module": "@jupyter-widgets/controls",
     "model_name": "LabelModel",
     "state": {
      "_dom_classes": [],
      "_model_module": "@jupyter-widgets/controls",
      "_model_module_version": "1.5.0",
      "_model_name": "LabelModel",
      "_view_count": null,
      "_view_module": "@jupyter-widgets/controls",
      "_view_module_version": "1.5.0",
      "_view_name": "LabelView",
      "description": "",
      "description_tooltip": null,
      "layout": "IPY_MODEL_06db8276059d449aa51a7b53c0fd61e7",
      "placeholder": "​",
      "style": "IPY_MODEL_fc04358cfaf04d3690249479a3238ce6",
      "value": "Prediction: grizzly; Probability: 0.9987"
     }
    },
    "da7c1bd4551944c69160c9fbcb8b9b22": {
     "model_module": "@jupyter-widgets/controls",
     "model_name": "LabelModel",
     "state": {
      "_dom_classes": [],
      "_model_module": "@jupyter-widgets/controls",
      "_model_module_version": "1.5.0",
      "_model_name": "LabelModel",
      "_view_count": null,
      "_view_module": "@jupyter-widgets/controls",
      "_view_module_version": "1.5.0",
      "_view_name": "LabelView",
      "description": "",
      "description_tooltip": null,
      "layout": "IPY_MODEL_b68df53d4626497e9b1fc24b57b3dd9e",
      "placeholder": "​",
      "style": "IPY_MODEL_155050e11b0c48b9babba398b931a294",
      "value": "Select your bear!"
     }
    },
    "ef834e3c25a44112bb5404fa1713f185": {
     "model_module": "@jupyter-widgets/base",
     "model_name": "LayoutModel",
     "state": {
      "_model_module": "@jupyter-widgets/base",
      "_model_module_version": "1.2.0",
      "_model_name": "LayoutModel",
      "_view_count": null,
      "_view_module": "@jupyter-widgets/base",
      "_view_module_version": "1.2.0",
      "_view_name": "LayoutView",
      "align_content": null,
      "align_items": null,
      "align_self": null,
      "border": null,
      "bottom": null,
      "display": null,
      "flex": null,
      "flex_flow": null,
      "grid_area": null,
      "grid_auto_columns": null,
      "grid_auto_flow": null,
      "grid_auto_rows": null,
      "grid_column": null,
      "grid_gap": null,
      "grid_row": null,
      "grid_template_areas": null,
      "grid_template_columns": null,
      "grid_template_rows": null,
      "height": null,
      "justify_content": null,
      "justify_items": null,
      "left": null,
      "margin": null,
      "max_height": null,
      "max_width": null,
      "min_height": null,
      "min_width": null,
      "object_fit": null,
      "object_position": null,
      "order": null,
      "overflow": null,
      "overflow_x": null,
      "overflow_y": null,
      "padding": null,
      "right": null,
      "top": null,
      "visibility": null,
      "width": null
     }
    },
    "fb69463aefff440cb26b2b902c7e177d": {
     "model_module": "@jupyter-widgets/controls",
     "model_name": "ButtonStyleModel",
     "state": {
      "_model_module": "@jupyter-widgets/controls",
      "_model_module_version": "1.5.0",
      "_model_name": "ButtonStyleModel",
      "_view_count": null,
      "_view_module": "@jupyter-widgets/base",
      "_view_module_version": "1.2.0",
      "_view_name": "StyleView",
      "button_color": null,
      "font_weight": ""
     }
    },
    "fc04358cfaf04d3690249479a3238ce6": {
     "model_module": "@jupyter-widgets/controls",
     "model_name": "DescriptionStyleModel",
     "state": {
      "_model_module": "@jupyter-widgets/controls",
      "_model_module_version": "1.5.0",
      "_model_name": "DescriptionStyleModel",
      "_view_count": null,
      "_view_module": "@jupyter-widgets/base",
      "_view_module_version": "1.2.0",
      "_view_name": "StyleView",
      "description_width": ""
     }
    }
   }
  }
 },
 "nbformat": 4,
 "nbformat_minor": 1
}
